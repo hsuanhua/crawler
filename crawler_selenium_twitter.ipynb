{
 "cells": [
  {
   "cell_type": "code",
   "execution_count": 7,
   "metadata": {
    "scrolled": false
   },
   "outputs": [
    {
     "name": "stdout",
     "output_type": "stream",
     "text": [
      "Collecting bs4\n",
      "  Downloading bs4-0.0.1.tar.gz (1.1 kB)\n",
      "Collecting beautifulsoup4\n",
      "  Downloading beautifulsoup4-4.9.3-py3-none-any.whl (115 kB)\n",
      "Collecting soupsieve>1.2\n",
      "  Downloading soupsieve-2.2.1-py3-none-any.whl (33 kB)\n",
      "Building wheels for collected packages: bs4\n",
      "  Building wheel for bs4 (setup.py): started\n",
      "  Building wheel for bs4 (setup.py): finished with status 'done'\n",
      "  Created wheel for bs4: filename=bs4-0.0.1-py3-none-any.whl size=1279 sha256=c39669ba50a9c8d6444b5147dac700ca5f2b7c5858f84e6ec0a5657d9b5cddf5\n",
      "  Stored in directory: c:\\users\\107lab\\appdata\\local\\pip\\cache\\wheels\\19\\f5\\6d\\a97dd4f22376d4472d5f4c76c7646876052ff3166b3cf71050\n",
      "Successfully built bs4\n",
      "Installing collected packages: soupsieve, beautifulsoup4, bs4\n",
      "Successfully installed beautifulsoup4-4.9.3 bs4-0.0.1 soupsieve-2.2.1\n"
     ]
    }
   ],
   "source": [
    "# !pip install --upgrade pip \n",
    "# !pip install selenium\n",
    "# !pip install bs4"
   ]
  },
  {
   "cell_type": "code",
   "execution_count": 1,
   "metadata": {},
   "outputs": [],
   "source": [
    "%matplotlib inline\n",
    "import numpy as np\n",
    "from selenium import webdriver\n",
    "# from selenium.webdriver.chrome.options import Options # 創建chrome參數對象\n",
    "import time\n",
    "import datetime\n",
    "from bs4 import BeautifulSoup\n",
    "import sys\n",
    "import random\n",
    "# import matplotlib.pylab as plt"
   ]
  },
  {
   "cell_type": "code",
   "execution_count": 10,
   "metadata": {},
   "outputs": [],
   "source": [
    "# driver路徑位置\n",
    "driver = webdriver.Chrome('D:/自己研究資料/NLP/chromedriver')\n",
    "\n",
    "# 搜尋網址\n",
    "sourceurl ='https://twitter.com/search?q=CNN&src=typed_query&f=live'\n",
    "driver.get(sourceurl)"
   ]
  },
  {
   "cell_type": "code",
   "execution_count": 11,
   "metadata": {
    "scrolled": true
   },
   "outputs": [
    {
     "name": "stdout",
     "output_type": "stream",
     "text": [
      "10 10\n"
     ]
    }
   ],
   "source": [
    "# 測試 確認剛load網頁時 有沒有讀到資料了\n",
    "soap = driver.page_source\n",
    "soap = BeautifulSoup(soap,from_encoding=\"UTF-8\")\n",
    "alldata = soap.find_all(\"div\",class_ = \"css-901oao r-18jsvk2 r-37j5jr r-a023e6 r-16dba41 r-rjixqe r-bcqeeo r-bnwqim r-qvutc0\")\n",
    "alldate = soap.find_all(\"a\",class_ = \"css-4rbku5 css-18t94o4 css-901oao r-14j79pv r-1loqt21 r-1q142lx r-37j5jr r-a023e6 r-16dba41 r-rjixqe r-bcqeeo r-3s2u2q r-qvutc0\")\n",
    "print(len(alldata),len(alldate))\n"
   ]
  },
  {
   "cell_type": "code",
   "execution_count": 12,
   "metadata": {},
   "outputs": [],
   "source": [
    "def get_data():\n",
    "    time.sleep(5)\n",
    "    # 每加載資料都要重新 load source 的 data，不然內容不會改變\n",
    "    soap = driver.page_source\n",
    "    soap = BeautifulSoup(soap,from_encoding=\"UTF-8\")\n",
    "    # all_data為tweets內容,all_date為年月日,datetime為tag裡的日期\n",
    "    all_data = soap.find_all(\"div\",class_ = \"css-901oao r-18jsvk2 r-37j5jr r-a023e6 r-16dba41 r-rjixqe r-bcqeeo r-bnwqim r-qvutc0\")\n",
    "    all_date = soap.find_all(\"a\",class_ = \"css-4rbku5 css-18t94o4 css-901oao r-14j79pv r-1loqt21 r-1q142lx r-37j5jr r-a023e6 r-16dba41 r-rjixqe r-bcqeeo r-3s2u2q r-qvutc0\")\n",
    "    datetime = soap.find_all(\"time\")\n",
    "    # 存後的height有多高，滾到底時防止一直loop最下方的幾筆資料\n",
    "    scroll_height = driver.execute_script(\"return document.documentElement.scrollHeight\")\n",
    "    height.append(scroll_height)\n",
    "    print(len(all_data))\n",
    "    return (all_data , all_date,scroll_height,height,datetime)"
   ]
  },
  {
   "cell_type": "code",
   "execution_count": 13,
   "metadata": {
    "scrolled": true
   },
   "outputs": [
    {
     "name": "stdout",
     "output_type": "stream",
     "text": [
      "10\n",
      "1/10  height: 5072\n",
      "2022/01/13 02:39:29 CNN's getting crushed in the ratings.\n",
      "2/10  height: 5072\n",
      "2022/01/13 02:39:29 Hard pass\n",
      "3/10  height: 5072\n",
      "2022/01/13 02:39:29 Thank you. It’s always great to be with @thelauracoates on @CNN . She brings the .\n",
      "4/10  height: 5072\n",
      "2022/01/13 02:39:24 Also Covid started out as a sexually transmitted disease in Wuhan’s homosexual population. It was not a respiratory virus at first. It evoked into a respiratory virus rapidly due to the # of men transmitting it back and forth to each other. The first to go to the hospital\n",
      "5/10  height: 5072\n",
      "2022/01/13 02:39:21 Isn't a member of the Saudi \"royal\" family a partial owner of Fox \"news?\" The US mainstream media only reports what they want you to know, that's not all the innocent lives being lost in besieged Yemen or Palestine. #CNN #FOXNEWS #bbcamerica\n",
      "6/10  height: 5072\n",
      "2022/01/13 02:39:19 Fox News shows make America less safe. Fox isn’t real news, it’s entertainment to radicalize Americans to join Terrorist groups & Fox gets away with it using free speech as it’s crutch to destroy America from within. @nytimes @CNN @WhiteHouse\n",
      "7/10  height: 5072\n",
      "2022/01/13 02:39:14 Seriously ..  the press focused on COVID like there was no tomorrow \n",
      "\n",
      "But it’s a democrat now .. @cnn @msnbs @maddow @WhoopiGoldberg @robreiner \n",
      "\n",
      "I don’t expect you hypocrites to say a word \n",
      "\n",
      "Which shows how intellectually dishonest you all are\n",
      "8/10  height: 5072\n",
      "2022/01/13 02:39:11 Nope. I am not going to tell you anymore than what I have already which is their is good reasons Biden has a 33% approval rating & that entire speech we are discussing nails it on the head. Enjoy the night\n",
      "9/10  height: 5072\n",
      "2022/01/13 02:39:11 You’re right, how dare I use the truth against you.  I should let your lies stand\n",
      "10/10  height: 5072\n",
      "2022/01/13 02:39:10 If you read the link you know.  If you didn't read the link you choose not to know.\n",
      "\n",
      "That's how your media programs your world views.\n",
      "15\n",
      "1/15  height: 9374\n",
      "2022/01/13 02:39:00 A disseminação da Covid-19 nas Américas atingiu nível recorde. Segunda a Organização Pan-Americana da Saúde (Opas), os casos da doença dobraram na semana passada. O analista de internacional da CNN @lsantanna comentou sobre o avanço da Covid-19 #ExpressoCNN\n",
      "2/15  height: 9374\n",
      "2022/01/13 02:38:55 Funny you should say McConnell , you belong beneath your  office ! \n",
      "3/15  height: 9374\n",
      "2022/01/13 02:38:54 Because CNN is more focus on providing negative news against President Biden than exposing Republicans for their crimes.\n",
      "4/15  height: 9374\n",
      "2022/01/13 02:38:53 Remember that one time rioters went to CNN?\n",
      "5/15  height: 9374\n",
      "2022/01/13 02:38:48 You make total sense. Listening to CDC well.. everyone will get COVID. So many are saying just take the mask off and just get it and be done. OMG! Then they say it’s just a cold. I know so many tripe Vac and really sick at home. No picnic.\n",
      "6/15  height: 9374\n",
      "2022/01/13 02:38:47 Oh sorry not Lysol but bleach\n",
      "7/15  height: 9374\n",
      "2022/01/13 02:38:46 Glad you understand I don’t give a damn about your white man hunches.  Maybe now you can shut the hell up and stop asking me questions.\n"
     ]
    },
    {
     "ename": "KeyboardInterrupt",
     "evalue": "",
     "output_type": "error",
     "traceback": [
      "\u001b[1;31m---------------------------------------------------------------------------\u001b[0m",
      "\u001b[1;31mKeyboardInterrupt\u001b[0m                         Traceback (most recent call last)",
      "\u001b[1;32m<ipython-input-13-fc74609fef93>\u001b[0m in \u001b[0;36m<module>\u001b[1;34m\u001b[0m\n\u001b[0;32m      6\u001b[0m \u001b[1;31m# 當一樣長度時\u001b[0m\u001b[1;33m\u001b[0m\u001b[1;33m\u001b[0m\u001b[1;33m\u001b[0m\u001b[0m\n\u001b[0;32m      7\u001b[0m \u001b[1;32mwhile\u001b[0m \u001b[0mi\u001b[0m \u001b[1;33m<\u001b[0m \u001b[0mlen\u001b[0m\u001b[1;33m(\u001b[0m\u001b[0mall_data\u001b[0m\u001b[1;33m)\u001b[0m\u001b[1;33m:\u001b[0m\u001b[1;33m\u001b[0m\u001b[1;33m\u001b[0m\u001b[0m\n\u001b[1;32m----> 8\u001b[1;33m     \u001b[0mtime\u001b[0m\u001b[1;33m.\u001b[0m\u001b[0msleep\u001b[0m\u001b[1;33m(\u001b[0m\u001b[1;36m5\u001b[0m\u001b[1;33m)\u001b[0m\u001b[1;33m\u001b[0m\u001b[1;33m\u001b[0m\u001b[0m\n\u001b[0m\u001b[0;32m      9\u001b[0m     \u001b[0mprint\u001b[0m\u001b[1;33m(\u001b[0m\u001b[0mstr\u001b[0m\u001b[1;33m(\u001b[0m\u001b[0mi\u001b[0m\u001b[1;33m+\u001b[0m\u001b[1;36m1\u001b[0m\u001b[1;33m)\u001b[0m \u001b[1;33m+\u001b[0m \u001b[1;34m\"/\"\u001b[0m \u001b[1;33m+\u001b[0m \u001b[0mstr\u001b[0m\u001b[1;33m(\u001b[0m\u001b[0mlen\u001b[0m\u001b[1;33m(\u001b[0m\u001b[0mall_data\u001b[0m\u001b[1;33m)\u001b[0m\u001b[1;33m)\u001b[0m \u001b[1;33m+\u001b[0m \u001b[1;34m\"  height: \"\u001b[0m \u001b[1;33m+\u001b[0m\u001b[0mstr\u001b[0m\u001b[1;33m(\u001b[0m\u001b[0mscroll_height\u001b[0m\u001b[1;33m)\u001b[0m\u001b[1;33m)\u001b[0m\u001b[1;33m\u001b[0m\u001b[1;33m\u001b[0m\u001b[0m\n\u001b[0;32m     10\u001b[0m     \u001b[0mdatetime\u001b[0m\u001b[1;33m[\u001b[0m\u001b[0mi\u001b[0m\u001b[1;33m]\u001b[0m \u001b[1;33m=\u001b[0m \u001b[0mdatetime\u001b[0m\u001b[1;33m[\u001b[0m\u001b[0mi\u001b[0m\u001b[1;33m]\u001b[0m\u001b[1;33m.\u001b[0m\u001b[0mget\u001b[0m\u001b[1;33m(\u001b[0m\u001b[1;34m'datetime'\u001b[0m\u001b[1;33m)\u001b[0m\u001b[1;33m.\u001b[0m\u001b[0mreplace\u001b[0m\u001b[1;33m(\u001b[0m\u001b[1;34m'.000Z'\u001b[0m\u001b[1;33m,\u001b[0m\u001b[1;34m''\u001b[0m\u001b[1;33m)\u001b[0m\u001b[1;33m.\u001b[0m\u001b[0mreplace\u001b[0m\u001b[1;33m(\u001b[0m\u001b[1;34m'T'\u001b[0m\u001b[1;33m,\u001b[0m\u001b[1;34m' '\u001b[0m\u001b[1;33m)\u001b[0m\u001b[1;33m.\u001b[0m\u001b[0mreplace\u001b[0m\u001b[1;33m(\u001b[0m\u001b[1;34m'-'\u001b[0m\u001b[1;33m,\u001b[0m\u001b[1;34m'/'\u001b[0m\u001b[1;33m)\u001b[0m\u001b[1;33m\u001b[0m\u001b[1;33m\u001b[0m\u001b[0m\n",
      "\u001b[1;31mKeyboardInterrupt\u001b[0m: "
     ]
    }
   ],
   "source": [
    "content = []\n",
    "date = []\n",
    "height = [0]\n",
    "i = 0\n",
    "all_data , all_date , scroll_height , height ,datetime = get_data()\n",
    "# 當一樣長度時\n",
    "while i < len(all_data):\n",
    "    time.sleep(5)\n",
    "    print(str(i+1) + \"/\" + str(len(all_data)) + \"  height: \" +str(scroll_height))\n",
    "    datetime[i] = datetime[i].get('datetime').replace('.000Z','').replace('T',' ').replace('-','/') \n",
    "    print(datetime[i],all_data[i].text)\n",
    "#     print(datetime[i].get('datetime').replace('.000Z','').replace('T',' ').replace('-','/'),all_data[i].text)\n",
    "#     print(all_date[i].text,all_data[i].text)\n",
    "    content.append(all_data[i].text)\n",
    "    date.append(datetime[i])\n",
    "    i += 1\n",
    "    if i >= (len(all_data)):\n",
    "        driver.execute_script('window.scrollTo(0,document.body.scrollHeight);') # 讓頁面滾動動\n",
    "        i = 0\n",
    "        all_data , all_date , scroll_height , height ,datetime = get_data()\n",
    "        \n",
    "        if height[-1] == height[-2]:\n",
    "            all_data , all_date , scroll_height , height ,datetime = get_data()\n",
    "            print('資料到底，可能重複了')\n",
    "            break"
   ]
  },
  {
   "cell_type": "code",
   "execution_count": 14,
   "metadata": {},
   "outputs": [],
   "source": [
    "import pandas as pd\n",
    "df = pd.DataFrame({'created_at':date,'text':content})\n",
    "\n",
    "df.to_csv('test.csv',encoding='utf-8-sig')"
   ]
  },
  {
   "cell_type": "markdown",
   "metadata": {},
   "source": []
  },
  {
   "cell_type": "code",
   "execution_count": null,
   "metadata": {},
   "outputs": [],
   "source": []
  }
 ],
 "metadata": {
  "kernelspec": {
   "display_name": "Python 3",
   "language": "python",
   "name": "python3"
  },
  "language_info": {
   "codemirror_mode": {
    "name": "ipython",
    "version": 3
   },
   "file_extension": ".py",
   "mimetype": "text/x-python",
   "name": "python",
   "nbconvert_exporter": "python",
   "pygments_lexer": "ipython3",
   "version": "3.8.4"
  }
 },
 "nbformat": 4,
 "nbformat_minor": 2
}
