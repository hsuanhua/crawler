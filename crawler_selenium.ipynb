{
 "cells": [
  {
   "cell_type": "code",
   "execution_count": 1,
   "metadata": {},
   "outputs": [
    {
     "name": "stdout",
     "output_type": "stream",
     "text": [
      "Requirement already satisfied: selenium in c:\\users\\kl953\\appdata\\local\\programs\\python\\python36\\lib\\site-packages (3.141.0)\n",
      "Requirement already satisfied: urllib3 in c:\\users\\kl953\\appdata\\local\\programs\\python\\python36\\lib\\site-packages (from selenium) (1.25.6)\n"
     ]
    }
   ],
   "source": [
    "#!pip install selenium"
   ]
  },
  {
   "cell_type": "code",
   "execution_count": 1,
   "metadata": {},
   "outputs": [],
   "source": [
    "%matplotlib inline\n",
    "import numpy as np\n",
    "from selenium import webdriver\n",
    "# from selenium.webdriver.chrome.options import Options # 創建chrome參數對象\n",
    "import time\n",
    "from bs4 import BeautifulSoup\n",
    "import sys\n",
    "import random\n",
    "import matplotlib.pylab as plt"
   ]
  },
  {
   "cell_type": "code",
   "execution_count": 26,
   "metadata": {},
   "outputs": [],
   "source": [
    "# opt = Options() # 啟動無頭模式\n",
    "# opt.add_argument('--headless')  #規避google bug\n",
    "driver = webdriver.Chrome('D:/自己研究資料/NLP/chromedriver')\n",
    "\n",
    "# 要搜尋的 hashtag\n",
    "sourceurl ='https://twitter.com/search?q=%E6%97%A5%E7%B5%8C%20%E3%82%A4%E3%83%B3%E3%83%87%E3%83%83%E3%82%AF%E3%82%B9%20(%E6%97%A5%E7%B5%8C%20OR%20%E3%82%A4%E3%83%B3%E3%83%87%E3%83%83%E3%82%AF%E3%82%B9)%20until%3A2019-01-31%20since%3A2019-01-30&src=typed_query&f=live'\n",
    "driver.get(sourceurl)"
   ]
  },
  {
   "cell_type": "code",
   "execution_count": 27,
   "metadata": {},
   "outputs": [],
   "source": [
    "for i in range(1,10):\n",
    "    driver.execute_script('window.scrollTo(0,document.body.scrollHeight);') # 讓頁面滾動動\n",
    "    time.sleep(5)\n",
    "    \n",
    "# #將滾動條拖到最底部\n",
    "# js = \"var q= document.documentElement.scrollTop=10000\"\n",
    "# driver.execute_script(js)\n",
    "# time.sleep(5) # 讓頁面休息 更好載入\n",
    "    \n",
    "# #將滾動條拖到最頂部\n",
    "# js=\"var action=document.documentElement.scrollTop=0\"\n",
    "# driver.execute_script(js)\n",
    "# time.sleep(5)\n"
   ]
  },
  {
   "cell_type": "code",
   "execution_count": 41,
   "metadata": {
    "scrolled": true
   },
   "outputs": [
    {
     "name": "stdout",
     "output_type": "stream",
     "text": [
      "9\n",
      "9\n"
     ]
    }
   ],
   "source": [
    "soap = driver.page_source\n",
    "soap = BeautifulSoup(soap,from_encoding=\"UTF-8\")\n",
    "alldata = soap.find_all(\"div\",class_ = \"css-901oao r-18jsvk2 r-1tl8opc r-a023e6 r-16dba41 r-rjixqe r-bcqeeo r-bnwqim r-qvutc0\")\n",
    "alldate = soap.find_all(\"a\",class_ = \"css-4rbku5 css-18t94o4 css-901oao r-m0bqgq r-1loqt21 r-1q142lx r-1qd0xha r-a023e6 r-16dba41 r-rjixqe r-bcqeeo r-3s2u2q r-qvutc0\")\n",
    "print(len(alldata))\n",
    "print(len(alldate))\n",
    "\n",
    "# print(date,content)"
   ]
  },
  {
   "cell_type": "code",
   "execution_count": 24,
   "metadata": {},
   "outputs": [
    {
     "name": "stdout",
     "output_type": "stream",
     "text": [
      "[]\n"
     ]
    }
   ],
   "source": [
    "# 顯示class的值\n",
    "# driver.get_attribute('class')\n",
    "content = driver.find_elements_by_class_name('css-901oao r-18jsvk2 r-1tl8opc r-a023e6 r-16dba41 r-rjixqe r-bcqeeo r-bnwqim r-qvutc0')\n",
    "print(content)"
   ]
  },
  {
   "cell_type": "code",
   "execution_count": 107,
   "metadata": {
    "scrolled": true
   },
   "outputs": [
    {
     "name": "stdout",
     "output_type": "stream",
     "text": [
      "0 2019年1月31日 本日の日経平均株価は米国株高を受けインデックス買いから始まるが。ドル/円で円高が進んだことから上昇は限定的。21000円を目指す動きには力不足。引き続き20500円-21000円レンジでの展開想定。\n",
      "#株 #投資 #日経平均株価\n",
      "1 2019年1月31日 【blog記事紹介】新しい株式指標「JPX日経インデックス400（JPX400）」とは？→\n",
      "2 2019年1月31日 日経Cは8分1ペナですね(最初のコードが頭悪くて、ソートしたindexを用意したのにそれを無視して普通に1つ目から順番に取り合っていた(しかもサンプルはそれであう))\n",
      "3 2019年1月30日 ブログ更新しました: 兵どもが夢の跡？『ひふみ投信』『SBI中小型割安成長株ファンド ジェイリバイブ』過去10年の実績をニッセイ日経225インデックスファンドと比較\n",
      "4 2019年1月30日 日経ニュース  \n",
      "　30日のＪＰＸ日経インデックス400は小幅に反落し、前日比37.82ポイント安の１万3781.41だった。バイオ関連の新興企業株の急落で個人投資家の心理が悪化。主力株にも買い手控えムードが強まった。もっとも同指数は業績の裏付けがある優良株の構成比率が高いため、下値も限定的だった。\n",
      "5 2019年1月30日 『インデックス投資とは』日経平均やTOPIX、S&P500、ダウ平均のような株価指数（インデックス）と同じ値動きを目指す投資方法のことです。 \n",
      "例えば、日経平均が5％上昇したら、自分の資産も同じく5％上昇するような投資方法です。\n",
      " https://myindex.jp/study/index_about.html…\n",
      "6 2019年1月30日 “eMAXIS Slim 国内株式(TOPIX)とeMAXIS Slim 国内株式(日経平均)で信託報酬率引下げ発表！ 今年は国内株式インデックスのターンか？ - 浪費家ナッツの投資日記” (5 users)\n"
     ]
    }
   ],
   "source": [
    "content = []\n",
    "date = []\n",
    "for i in range (len(alldata)):\n",
    "    print(i,alldate[i].text,alldata[i].text)\n",
    "    content.append(alldata[i].text)\n",
    "    date.append(alldate[i].text)\n"
   ]
  },
  {
   "cell_type": "code",
   "execution_count": 42,
   "metadata": {},
   "outputs": [],
   "source": [
    "import csv\n",
    "import datetime\n",
    "import pandas as pd\n",
    "\n",
    "dd = datetime.date.today()\n",
    "df = pd.DataFrame({'created_at':date,'text':content})\n",
    "\n",
    "df.to_csv(str(dd)+' tweet 日立  株.csv',encoding='utf-8-sig')"
   ]
  },
  {
   "cell_type": "markdown",
   "metadata": {},
   "source": [
    "https://yanwei-liu.medium.com/python%E7%88%AC%E8%9F%B2%E5%AD%B8%E7%BF%92%E7%AD%86%E8%A8%98-%E4%BA%8C-selenium%E8%87%AA%E5%8B%95%E5%8C%96-ab0a27a94ff2"
   ]
  },
  {
   "cell_type": "code",
   "execution_count": null,
   "metadata": {},
   "outputs": [],
   "source": []
  }
 ],
 "metadata": {
  "kernelspec": {
   "display_name": "Python 3",
   "language": "python",
   "name": "python3"
  },
  "language_info": {
   "codemirror_mode": {
    "name": "ipython",
    "version": 3
   },
   "file_extension": ".py",
   "mimetype": "text/x-python",
   "name": "python",
   "nbconvert_exporter": "python",
   "pygments_lexer": "ipython3",
   "version": "3.6.8"
  }
 },
 "nbformat": 4,
 "nbformat_minor": 2
}
